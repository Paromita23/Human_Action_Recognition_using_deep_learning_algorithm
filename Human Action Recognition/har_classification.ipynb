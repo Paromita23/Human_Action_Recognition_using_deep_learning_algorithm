{
  "nbformat": 4,
  "nbformat_minor": 0,
  "metadata": {
    "colab": {
      "name": "har_classification.ipynb",
      "provenance": [],
      "collapsed_sections": []
    },
    "kernelspec": {
      "name": "python3",
      "display_name": "Python 3"
    },
    "language_info": {
      "name": "python"
    }
  },
  "cells": [
    {
      "cell_type": "code",
      "execution_count": null,
      "metadata": {
        "id": "EwfR3sGZvqYH"
      },
      "outputs": [],
      "source": [
        "!git clone https://github.com/Paromita23/Human_Action_Recognition_using_deep_learning_algorithm.git"
      ]
    },
    {
      "cell_type": "code",
      "source": [
        "%cd %cd Human_Action_Recognition_using_deep_learning_algorithm/Human Action Recognition"
      ],
      "metadata": {
        "id": "rmPeABtyvvaN"
      },
      "execution_count": null,
      "outputs": []
    },
    {
      "cell_type": "code",
      "source": [
        "!pip install -r requirements.txt"
      ],
      "metadata": {
        "id": "Qzyqjjbwv5wb"
      },
      "execution_count": null,
      "outputs": []
    },
    {
      "cell_type": "code",
      "source": [
        "import torch\n",
        "assert torch.__version__.startswith(\"1.8\")   # need to manually install torch 1.8 if Colab changes its default version\n",
        "!pip install detectron2 -f https://dl.fbaipublicfiles.com/detectron2/wheels/cu101/torch1.8/index.html"
      ],
      "metadata": {
        "id": "WHwm_mYsv_Pz"
      },
      "execution_count": null,
      "outputs": []
    },
    {
      "cell_type": "code",
      "source": [
        "# Download ngrok for tunneling.\n",
        "!if [ ! -f ./ngrok ]; then \\\n",
        " wget https://bin.equinox.io/c/4VmDzA7iaHb/ngrok-stable-linux-amd64.zip; \\\n",
        " unzip -o ngrok-stable-linux-amd64.zip; \\\n",
        " fi"
      ],
      "metadata": {
        "id": "8vMoZNk3wBtt"
      },
      "execution_count": null,
      "outputs": []
    },
    {
      "cell_type": "code",
      "source": [
        "# Then start a mini web server.\n",
        "port = 5000\n",
        "!pkill ngrok\n",
        "!kill $(ps x | grep -v grep | grep http.server | awk '{print $1}') 2>/dev/null\n",
        "\n",
        "get_ipython().system_raw(\n",
        "    'python app.py && python3 -m http.server {} &'\n",
        "    .format(port)\n",
        ")\n",
        "\n",
        "# And, forward the port using ngrok.\n",
        "get_ipython().system_raw('./ngrok http {} &'.format(port))"
      ],
      "metadata": {
        "id": "AHsFbDPLwEAU"
      },
      "execution_count": null,
      "outputs": []
    },
    {
      "cell_type": "code",
      "source": [
        "# Get the public address from localhost:4040 (ngrok's web interface).\n",
        "import time, urllib, json\n",
        "import urllib.request\n",
        "time.sleep(1)  # Give ngrok time to startup.\n",
        "ngrok_data = json.load(\n",
        "    urllib.request.urlopen('http://localhost:4040/api/tunnels'))\n",
        "ngrok_data['tunnels'][0]['public_url']"
      ],
      "metadata": {
        "id": "wJsLpLohwG66"
      },
      "execution_count": null,
      "outputs": []
    },
    {
      "cell_type": "code",
      "source": [
        "!python app.py"
      ],
      "metadata": {
        "id": "Qeyd1fnwwJiL"
      },
      "execution_count": null,
      "outputs": []
    }
  ]
}
