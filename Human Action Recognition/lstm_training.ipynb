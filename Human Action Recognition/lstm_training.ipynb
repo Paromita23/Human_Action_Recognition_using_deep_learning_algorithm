{
  "nbformat": 4,
  "nbformat_minor": 0,
  "metadata": {
    "colab": {
      "name": "Untitled2.ipynb",
      "provenance": [],
      "collapsed_sections": []
    },
    "kernelspec": {
      "name": "python3",
      "display_name": "Python 3"
    },
    "language_info": {
      "name": "python"
    }
  },
  "cells": [
    {
      "cell_type": "code",
      "metadata": {
        "id": "0sfw2Xg1lNGk"
      },
      "source": [
        "!wget -O RNN-HAR-2D-Pose-database.zip https://drive.google.com/file/d/1ghTRzZW4nx70K-iARGWi7jaWzHxekvCS/view?usp=sharing"
      ],
      "execution_count": null,
      "outputs": []
    },
    {
      "cell_type": "code",
      "metadata": {
        "id": "V-d2FQvfoIBx"
      },
      "source": [
        "!unzip RNN-HAR-2D-Pose-database.zip"
      ],
      "execution_count": null,
      "outputs": []
    },
    {
      "cell_type": "code",
      "metadata": {
        "id": "zWnUKkPQoIkH"
      },
      "source": [
        "!head -2 /content/RNN-HAR-2D-Pose-database/X_train.txt"
      ],
      "execution_count": null,
      "outputs": []
    },
    {
      "cell_type": "code",
      "metadata": {
        "id": "FkdtQC62oNC-"
      },
      "source": [
        "!git clone https://github.com/Paromita23/Human_Action_Recognition_using_deep_learning_algorithm.git"
      ],
      "execution_count": null,
      "outputs": []
    },
    {
      "cell_type": "code",
      "metadata": {
        "id": "eLltuliCoqIg"
      },
      "source": [
        "%cd /Human-Action-Recognition-Using-Detectron2-And-Lstm"
      ],
      "execution_count": null,
      "outputs": []
    },
    {
      "cell_type": "code",
      "metadata": {
        "id": "DbBiDePWoZkK"
      },
      "source": [
        "!pip install -r requirements.txt"
      ],
      "execution_count": null,
      "outputs": []
    },
    {
      "cell_type": "code",
      "metadata": {
        "id": "Hi08rB3Do9Hf"
      },
      "source": [
        "DATASET_PATH = \"/content/RNN-HAR-2D-Pose-database/\""
      ],
      "execution_count": null,
      "outputs": []
    },
    {
      "cell_type": "code",
      "metadata": {
        "id": "TFR2ePeapAKv"
      },
      "source": [
        "from argparse import ArgumentParser\n",
        "\n",
        "def configuration_parser(parent_parser):\n",
        "    parser = ArgumentParser(parents=[parent_parser], add_help=False)\n",
        "    parser.add_argument('--batch_size', type=int, default=512)\n",
        "    parser.add_argument('--epochs', type=int, default=400)\n",
        "    parser.add_argument('--data_root', type=str, default=DATASET_PATH)\n",
        "    parser.add_argument('--learning_rate', type=float, default=0.0001)\n",
        "    parser.add_argument('--num_class', type=int, default=6)\n",
        "    return parser"
      ],
      "execution_count": null,
      "outputs": []
    },
    {
      "cell_type": "code",
      "metadata": {
        "id": "qdCaQ3tKpCUm"
      },
      "source": [
        "import pytorch_lightning as pl\n",
        "from pytorch_lightning.callbacks import EarlyStopping\n",
        "from pytorch_lightning.callbacks import ModelCheckpoint\n",
        "from pytorch_lightning.callbacks import LearningRateMonitor\n",
        "\n",
        "from src.lstm import ActionClassificationLSTM, PoseDataModule"
      ],
      "execution_count": null,
      "outputs": []
    },
    {
      "cell_type": "code",
      "metadata": {
        "id": "gpI6f3b5pERm"
      },
      "source": [
        "def do_training_validation():\n",
        "    pl.seed_everything(21)    \n",
        "    parser = ArgumentParser()\n",
        "    parser = pl.Trainer.add_argparse_args(parser)\n",
        "    parser = configuration_parser(parser)\n",
        "    # args = parser.parse_args()\n",
        "    args, unknown = parser.parse_known_args()\n",
        "    # init model    \n",
        "    model = ActionClassificationLSTM(34, 50, learning_rate=args.learning_rate)\n",
        "    data_module = PoseDataModule(data_root=args.data_root,\n",
        "                                        batch_size=args.batch_size)    \n",
        "    #save only the top 1 model based on val_loss\n",
        "    checkpoint_callback = ModelCheckpoint(save_top_k=1, monitor='val_loss')\n",
        "    lr_monitor = LearningRateMonitor(logging_interval='step')  \n",
        "    #trainer\n",
        "    trainer = pl.Trainer.from_argparse_args(args,\n",
        "        # fast_dev_run=True,\n",
        "        max_epochs=args.epochs, \n",
        "        deterministic=True, \n",
        "        gpus=1, \n",
        "        progress_bar_refresh_rate=1, \n",
        "        callbacks=[EarlyStopping(monitor='train_loss', patience=15), checkpoint_callback, lr_monitor])    \n",
        "    trainer.fit(model, data_module)    \n",
        "    return model"
      ],
      "execution_count": null,
      "outputs": []
    },
    {
      "cell_type": "code",
      "metadata": {
        "id": "ZVHgtAt1pIH-"
      },
      "source": [
        "# To reload tensorBoard\n",
        "%load_ext tensorboard\n",
        "\n",
        "# logs folder path\n",
        "%tensorboard --logdir=lightning_logs"
      ],
      "execution_count": null,
      "outputs": []
    }
  ]
}